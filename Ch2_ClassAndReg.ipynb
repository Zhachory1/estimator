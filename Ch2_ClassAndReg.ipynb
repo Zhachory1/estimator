{
 "cells": [
  {
   "cell_type": "code",
   "execution_count": 11,
   "metadata": {},
   "outputs": [],
   "source": [
    "import numpy as np\n",
    "from sklearn.linear_model import LogisticRegression\n",
    "from sklearn.naive_bayes import GaussianNB\n",
    "from sklearn.model_selection import cross_val_score\n",
    "import matplotlib.pyplot as plt\n",
    "\n",
    "def visualize_classifier(clf, X, y):\n",
    "    min_x, max_x = X[:, 0].min() -1.0, X[:, 0].max() + 1.0\n",
    "    min_y, max_y = X[:, 1].min() -1.0, X[:, 1].max() + 1.0    \n",
    "    mesh_step_size = 0.01\n",
    "    x_vals, y_vals = np.meshgrid(np.arange(min_x, \n",
    "                                           max_x, \n",
    "                                           mesh_step_size),\n",
    "                                 np.arange(min_y,\n",
    "                                           max_y,\n",
    "                                           mesh_step_size))\n",
    "    output = clf.predict(np.c_[x_vals.ravel(), y_vals.ravel()])\n",
    "    output = output.reshape(x_vals.shape)\n",
    "    plt.figure()\n",
    "    plt.pcolormesh(x_vals, y_vals, output, cmap=plt.cm.gray)\n",
    "    plt.scatter(X[:, 0], \n",
    "                X[:, 1], \n",
    "                c=y, \n",
    "                s=75, \n",
    "                edgecolors='black', \n",
    "                linewidth=1,\n",
    "                cmap=plt.cm.Paired)\n",
    "    plt.xlim(x_vals.min(), x_vals.max())\n",
    "    plt.ylim(y_vals.min(), y_vals.max())\n",
    "    plt.show()"
   ]
  },
  {
   "cell_type": "markdown",
   "metadata": {},
   "source": [
    "# Logisitic Regression"
   ]
  },
  {
   "cell_type": "code",
   "execution_count": 12,
   "metadata": {},
   "outputs": [
    {
     "data": {
      "image/png": "[encoded data removed]",
      "text/plain": [
       "<matplotlib.figure.Figure at 0x7f6e90ff8a90>"
      ]
     },
     "metadata": {},
     "output_type": "display_data"
    }
   ],
   "source": [
    "X = np.array([[3.1, 7.2],\n",
    "              [  4, 6.7],\n",
    "              [2.9,   8],\n",
    "              [5.1, 4.5],\n",
    "              [  6,   5],\n",
    "              [5.6,   5],\n",
    "              [3.3, 0.4],\n",
    "              [3.9, 0.9],\n",
    "              [2.8,   1],\n",
    "              [0.5, 3.4],\n",
    "              [  1,   4],\n",
    "              [0.6, 4.9]])\n",
    "y = np.array([0,0,0,1,1,1,2,2,2,3,3,3])\n",
    "\n",
    "classifier = LogisticRegression(solver='liblinear', C=1)\n",
    "classifier.fit(X, y)\n",
    "\n",
    "visualize_classifier(classifier, X, y)"
   ]
  },
  {
   "cell_type": "markdown",
   "metadata": {},
   "source": [
    "# Naive Bayes"
   ]
  },
  {
   "cell_type": "code",
   "execution_count": null,
   "metadata": {},
   "outputs": [],
   "source": []
  }
 ],
 "metadata": {
  "kernelspec": {
   "display_name": "Python 2",
   "language": "python",
   "name": "python2"
  },
  "language_info": {
   "codemirror_mode": {
    "name": "ipython",
    "version": 2
   },
   "file_extension": ".py",
   "mimetype": "text/x-python",
   "name": "python",
   "nbconvert_exporter": "python",
   "pygments_lexer": "ipython2",
   "version": "2.7.14"
  }
 },
 "nbformat": 4,
 "nbformat_minor": 2
}
